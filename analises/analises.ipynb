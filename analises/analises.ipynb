{
 "cells": [
  {
   "cell_type": "code",
   "execution_count": 21,
   "metadata": {},
   "outputs": [
    {
     "name": "stdout",
     "output_type": "stream",
     "text": [
      "(172155, 9)\n",
      "   municipio       cod  possui_nomeacoes  possui_exoneracoes  num_nomeacoes  \\\n",
      "0    batalha  5D95E55C             False               False              0   \n",
      "1  taquarana  D6DCB518             False               False              0   \n",
      "2  taquarana  E48AC138             False               False              0   \n",
      "3  taquarana  1B977826             False               False              0   \n",
      "4  taquarana  E2BC3613             False               False              0   \n",
      "\n",
      "   num_exoneracoes   ano  mes  dia  \n",
      "0                0  2015    8   27  \n",
      "1                0  2015    8   27  \n",
      "2                0  2015    8   27  \n",
      "3                0  2015    8   27  \n",
      "4                0  2015    8   27  \n",
      "\n",
      "## Total de municípios: 94\n"
     ]
    }
   ],
   "source": [
    "import pandas as pd\n",
    "\n",
    "df = pd.read_json(\"https://github.com/exoonero/analises/raw/main/df.zip\")\n",
    "print(df.shape)\n",
    "print(df.head())\n",
    "print(\"\\n## Total de municípios: \" + str(df[\"municipio\"].unique().size))\n"
   ]
  },
  {
   "cell_type": "code",
   "execution_count": 22,
   "metadata": {},
   "outputs": [
    {
     "name": "stdout",
     "output_type": "stream",
     "text": [
      "\n",
      "## Total de atos: 172155\n",
      "\n",
      "## Total de Atos por mês\n",
      "\n",
      "ano   mes\n",
      "2014  4         1\n",
      "      5         5\n",
      "      6        10\n",
      "      7         6\n",
      "      8         2\n",
      "             ... \n",
      "2023  6      3728\n",
      "      7      3671\n",
      "      8      4097\n",
      "      9      3783\n",
      "      10     2789\n",
      "Name: cod, Length: 115, dtype: int64\n"
     ]
    }
   ],
   "source": [
    "print(\"\\n## Total de atos: \" + df[\"cod\"].count().astype(str))\n",
    "\n",
    "print(\"\\n## Total de Atos por mês\\n\")\n",
    "print(df.groupby([\"ano\", \"mes\"])[\"cod\"].count())\n"
   ]
  },
  {
   "cell_type": "code",
   "execution_count": 23,
   "metadata": {},
   "outputs": [
    {
     "name": "stdout",
     "output_type": "stream",
     "text": [
      "\n",
      "## Média de Atos dos município mês\n",
      "\n",
      "ano   mes\n",
      "2014  4       1.000000\n",
      "      5       5.000000\n",
      "      6      10.000000\n",
      "      7       6.000000\n",
      "      8       2.000000\n",
      "               ...    \n",
      "2023  6      41.422222\n",
      "      7      40.788889\n",
      "      8      45.021978\n",
      "      9      41.571429\n",
      "      10     30.648352\n",
      "Name: cod, Length: 115, dtype: float64\n"
     ]
    }
   ],
   "source": [
    "print(\"\\n## Média de Atos dos município mês\\n\")\n",
    "print(df.groupby([\"ano\", \"mes\"])[[\"cod\", \"municipio\"]].apply(\n",
    "    lambda x: x.count() / x[\"municipio\"].unique().size)[\"cod\"])\n"
   ]
  },
  {
   "cell_type": "code",
   "execution_count": 24,
   "metadata": {},
   "outputs": [
    {
     "name": "stdout",
     "output_type": "stream",
     "text": [
      "\n",
      "## Top 10 Municípios com maior número de atos\n",
      "\n",
      "municipio\n",
      "arapiraca           11036\n",
      "marechal-deodoro    10149\n",
      "teotonio-vilela      8603\n",
      "delmiro-gouveia      6780\n",
      "campo-alegre         6699\n",
      "rio-largo            5769\n",
      "maragogi             5092\n",
      "pilar                5037\n",
      "inhapi               3900\n",
      "junqueiro            3700\n",
      "Name: cod, dtype: int64\n"
     ]
    }
   ],
   "source": [
    "print(\"\\n## Top 10 Municípios com maior número de atos\\n\")\n",
    "print(df.groupby([\"municipio\"])[\"cod\"].count().sort_values(ascending=False).head(10))\n"
   ]
  },
  {
   "cell_type": "code",
   "execution_count": 25,
   "metadata": {},
   "outputs": [
    {
     "name": "stdout",
     "output_type": "stream",
     "text": [
      "\n",
      "## Total de nomeações: 15077\n",
      "\n",
      "## Nomeações por mês\n",
      "\n",
      "ano   mes\n",
      "2014  4        0\n",
      "      5        0\n",
      "      6        0\n",
      "      7        0\n",
      "      8        0\n",
      "            ... \n",
      "2023  6      366\n",
      "      7      285\n",
      "      8      231\n",
      "      9      152\n",
      "      10     167\n",
      "Name: num_nomeacoes, Length: 115, dtype: int64\n"
     ]
    }
   ],
   "source": [
    "print(\"\\n## Total de nomeações: \" + df[\"num_nomeacoes\"].sum().astype(str))\n",
    "\n",
    "print(\"\\n## Nomeações por mês\\n\")\n",
    "print(df.groupby([\"ano\", \"mes\"])[\"num_nomeacoes\"].sum())"
   ]
  },
  {
   "cell_type": "code",
   "execution_count": 26,
   "metadata": {},
   "outputs": [
    {
     "name": "stdout",
     "output_type": "stream",
     "text": [
      "\n",
      "## Média de Nomeações dos município por mês\n",
      "\n",
      "ano   mes\n",
      "2014  4      0.000000\n",
      "      5      0.000000\n",
      "      6      0.000000\n",
      "      7      0.000000\n",
      "      8      0.000000\n",
      "               ...   \n",
      "2023  6      4.066667\n",
      "      7      3.166667\n",
      "      8      2.538462\n",
      "      9      1.670330\n",
      "      10     1.835165\n",
      "Length: 115, dtype: float64\n"
     ]
    }
   ],
   "source": [
    "print(\"\\n## Média de Nomeações dos município por mês\\n\")\n",
    "print(df.groupby([\"ano\", \"mes\"])[[\"municipio\", \"num_nomeacoes\"]].apply(\n",
    "    lambda x: x[\"num_nomeacoes\"].sum() / x[\"municipio\"].unique().size))"
   ]
  },
  {
   "cell_type": "code",
   "execution_count": 27,
   "metadata": {},
   "outputs": [
    {
     "name": "stdout",
     "output_type": "stream",
     "text": [
      "\n",
      "## Top 10 Municípios com maior número de nomeações\n",
      "\n",
      "municipio\n",
      "maragogi                1615\n",
      "teotonio-vilela         1244\n",
      "marechal-deodoro        1152\n",
      "junqueiro               1056\n",
      "delmiro-gouveia          796\n",
      "arapiraca                728\n",
      "rio-largo                583\n",
      "maravilha                438\n",
      "atalaia                  421\n",
      "santa-luzia-do-norte     368\n",
      "Name: num_nomeacoes, dtype: int64\n"
     ]
    }
   ],
   "source": [
    "print(\"\\n## Top 10 Municípios com maior número de nomeações\\n\")\n",
    "print(df.groupby([\"municipio\"])[\"num_nomeacoes\"].sum(\n",
    ").sort_values(ascending=False).head(10))"
   ]
  },
  {
   "cell_type": "code",
   "execution_count": 28,
   "metadata": {},
   "outputs": [
    {
     "name": "stdout",
     "output_type": "stream",
     "text": [
      "\n",
      "## Total de exonerações: 2712\n",
      "\n",
      "## Exonerações por mês\n",
      "\n",
      "ano   mes\n",
      "2014  4       0\n",
      "      5       0\n",
      "      6       0\n",
      "      7       0\n",
      "      8       0\n",
      "             ..\n",
      "2023  6      44\n",
      "      7      46\n",
      "      8      52\n",
      "      9      79\n",
      "      10     41\n",
      "Name: num_exoneracoes, Length: 115, dtype: int64\n"
     ]
    }
   ],
   "source": [
    "print(\"\\n## Total de exonerações: \" + df[\"num_exoneracoes\"].sum().astype(str))\n",
    "\n",
    "print(\"\\n## Exonerações por mês\\n\")\n",
    "print(df.groupby([\"ano\", \"mes\"])[\"num_exoneracoes\"].sum())"
   ]
  },
  {
   "cell_type": "code",
   "execution_count": 29,
   "metadata": {},
   "outputs": [
    {
     "name": "stdout",
     "output_type": "stream",
     "text": [
      "\n",
      "## Média de Exonerações dos município por mês\n",
      "\n",
      "ano   mes\n",
      "2014  4      0.000000\n",
      "      5      0.000000\n",
      "      6      0.000000\n",
      "      7      0.000000\n",
      "      8      0.000000\n",
      "               ...   \n",
      "2023  6      0.488889\n",
      "      7      0.511111\n",
      "      8      0.571429\n",
      "      9      0.868132\n",
      "      10     0.450549\n",
      "Length: 115, dtype: float64\n"
     ]
    }
   ],
   "source": [
    "print(\"\\n## Média de Exonerações dos município por mês\\n\")\n",
    "print(df.groupby([\"ano\", \"mes\"])[[\"municipio\", \"num_exoneracoes\"]].apply(\n",
    "    lambda x: x[\"num_exoneracoes\"].sum() / x[\"municipio\"].unique().size))"
   ]
  },
  {
   "cell_type": "code",
   "execution_count": 30,
   "metadata": {},
   "outputs": [
    {
     "name": "stdout",
     "output_type": "stream",
     "text": [
      "\n",
      "## Top 10 Municípios com maior número de exonerações\n",
      "\n",
      "municipio\n",
      "marechal-deodoro     338\n",
      "maragogi             328\n",
      "delmiro-gouveia      204\n",
      "major-izidoro        200\n",
      "inhapi               197\n",
      "rio-largo            152\n",
      "minador-do-negrao    111\n",
      "teotonio-vilela      104\n",
      "junqueiro            104\n",
      "atalaia               94\n",
      "Name: num_exoneracoes, dtype: int64\n"
     ]
    }
   ],
   "source": [
    "print(\"\\n## Top 10 Municípios com maior número de exonerações\\n\")\n",
    "print(df.groupby([\"municipio\"])[\"num_exoneracoes\"].sum().sort_values(ascending=False).head(10))"
   ]
  }
 ],
 "metadata": {
  "kernelspec": {
   "display_name": "Python 3",
   "language": "python",
   "name": "python3"
  },
  "language_info": {
   "codemirror_mode": {
    "name": "ipython",
    "version": 3
   },
   "file_extension": ".py",
   "mimetype": "text/x-python",
   "name": "python",
   "nbconvert_exporter": "python",
   "pygments_lexer": "ipython3",
   "version": "3.12.0"
  },
  "orig_nbformat": 4,
  "vscode": {
   "interpreter": {
    "hash": "aee8b7b246df8f9039afb4144a1f6fd8d2ca17a180786b69acc140d282b71a49"
   }
  }
 },
 "nbformat": 4,
 "nbformat_minor": 2
}
